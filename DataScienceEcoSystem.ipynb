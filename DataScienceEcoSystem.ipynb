{
 "cells": [
  {
   "cell_type": "markdown",
   "id": "9ea7fac9-907c-4d0d-8e44-ea2336b6c36e",
   "metadata": {},
   "source": [
    "# Data Science Tools and Ecosystem"
   ]
  },
  {
   "cell_type": "markdown",
   "id": "389af57c-cf21-49f0-b830-ac8c3b42dfc6",
   "metadata": {},
   "source": [
    "In this notebook, Data Science Tools and Ecosystem are summarized."
   ]
  },
  {
   "cell_type": "markdown",
   "id": "ad68bc52-08a7-4738-a5bc-55104c794044",
   "metadata": {},
   "source": [
    "Some of the popular languages that Data Scientists use are:"
   ]
  },
  {
   "cell_type": "markdown",
   "id": "2c50a513-5ff0-45a1-853b-a4dc30dca4b8",
   "metadata": {},
   "source": [
    "1. Python\n",
    "2. R\n",
    "3. SQL\n",
    "4. Java\n",
    "5. MATLAB"
   ]
  },
  {
   "cell_type": "markdown",
   "id": "1c2233d5-1dfc-4cc5-8760-4fc798db4128",
   "metadata": {},
   "source": [
    "Some of the commonly used libraries used by Data Scientists include:"
   ]
  },
  {
   "cell_type": "markdown",
   "id": "4d588628-74da-4623-9dd5-414c5c7e8bd6",
   "metadata": {},
   "source": [
    "1. NumPy\n",
    "2. Pandas\n",
    "3. Matplotlib\n",
    "4. Scikit-learn\n",
    "5. TensorFlow\n",
    "6. Keras\n",
    "7. PyTorch"
   ]
  },
  {
   "cell_type": "markdown",
   "id": "89f9ad67-6e72-4665-81a1-fb330113bab8",
   "metadata": {},
   "source": [
    "| Data Science Tools |\n",
    "| :-------------------------------------------------------------------- |\n",
    "| Jupyter Notebook|\n",
    "| RStudio |\n",
    "| Spyder |"
   ]
  },
  {
   "cell_type": "code",
   "execution_count": 3,
   "id": "b6d2860d-5000-454b-a0a1-34b7cf64500f",
   "metadata": {
    "jupyter": {
     "source_hidden": true
    },
    "tags": []
   },
   "outputs": [
    {
     "data": {
      "text/html": [
       "<style>\n",
       "table {float:left}\n",
       "</style>\n"
      ],
      "text/plain": [
       "<IPython.core.display.HTML object>"
      ]
     },
     "metadata": {},
     "output_type": "display_data"
    }
   ],
   "source": [
    "%%html\n",
    "<style>\n",
    "table {float:left}\n",
    "</style>"
   ]
  },
  {
   "cell_type": "markdown",
   "id": "935516e2-d64a-40af-99a6-c386bc80bb5c",
   "metadata": {},
   "source": [
    "### Below are a few examples of evaluating arithmetic expressions in Python"
   ]
  },
  {
   "cell_type": "code",
   "execution_count": 4,
   "id": "ba56db7a-9a30-44f1-a481-2e669b5290b3",
   "metadata": {},
   "outputs": [
    {
     "name": "stdout",
     "output_type": "stream",
     "text": [
      "17\n"
     ]
    }
   ],
   "source": [
    "# This is a simple arithmetic expression to multiply then add integers\n",
    "result = (3 * 4) + 5\n",
    "print(result)"
   ]
  },
  {
   "cell_type": "code",
   "execution_count": 5,
   "id": "ad7a8d8d-7083-4efb-9ac8-ffe664701428",
   "metadata": {},
   "outputs": [
    {
     "name": "stdout",
     "output_type": "stream",
     "text": [
      "3.3333333333333335\n"
     ]
    }
   ],
   "source": [
    "# This will convert 200 minutes to hours by dividing by 60\n",
    "minutes = 200\n",
    "hours = minutes / 60\n",
    "print(hours)"
   ]
  },
  {
   "cell_type": "markdown",
   "id": "3c09d7fe-c057-4143-92bf-1ef0189c8752",
   "metadata": {},
   "source": [
    "**Objectives**:\n",
    "\n",
    "* List popular languages for Data Science\n",
    "* Identify commonly used libraries in Data Science\n",
    "* Describe open source tools for Data Science development environments\n",
    "* Explain the concept of Data Governance\n",
    "* Introduce IBM Watson Studio and its capabilities\n",
    "* Understand the basics of working with Jupyter Notebooks\n",
    "* Perform basic calculations and data conversions in Python code cells."
   ]
  },
  {
   "cell_type": "markdown",
   "id": "dd996128-b1ee-497d-8b37-3a83197ef0ec",
   "metadata": {},
   "source": [
    "## Author\n",
    "Alex"
   ]
  },
  {
   "cell_type": "code",
   "execution_count": null,
   "id": "831151eb-9ca5-4048-89c6-bbf495e6f2b9",
   "metadata": {},
   "outputs": [],
   "source": []
  }
 ],
 "metadata": {
  "kernelspec": {
   "display_name": "Python",
   "language": "python",
   "name": "conda-env-python-py"
  },
  "language_info": {
   "codemirror_mode": {
    "name": "ipython",
    "version": 3
   },
   "file_extension": ".py",
   "mimetype": "text/x-python",
   "name": "python",
   "nbconvert_exporter": "python",
   "pygments_lexer": "ipython3",
   "version": "3.7.12"
  }
 },
 "nbformat": 4,
 "nbformat_minor": 5
}
